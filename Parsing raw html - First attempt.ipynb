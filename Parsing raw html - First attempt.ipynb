{
 "cells": [
  {
   "cell_type": "code",
   "execution_count": 208,
   "id": "6ec93567",
   "metadata": {},
   "outputs": [],
   "source": [
    "import os\n",
    "import re\n",
    "import ast\n",
    "import html\n",
    "import json\n",
    "from collections import Counter\n",
    "from html.parser import HTMLParser"
   ]
  },
  {
   "cell_type": "code",
   "execution_count": null,
   "id": "574dc9e8",
   "metadata": {},
   "outputs": [],
   "source": [
    "root_path = '/Users/vivianamarquez/Desktop/prisoneducation/raw_html/'"
   ]
  },
  {
   "cell_type": "markdown",
   "id": "754765e7",
   "metadata": {},
   "source": [
    "# Get all types\n",
    "\n",
    "Edit: I might not need this after all... I created a function below to parse the content "
   ]
  },
  {
   "cell_type": "code",
   "execution_count": 129,
   "id": "38585d51",
   "metadata": {},
   "outputs": [],
   "source": [
    "def get_all_types(html_content):\n",
    "    get_types = html_content.split('\"type\":')\n",
    "    all_types = []\n",
    "\n",
    "    for item in get_types[1:]:\n",
    "        typ = item.split(\",\")[0].replace('\"',\"\")\n",
    "        all_types.append(typ)\n",
    "    return all_types"
   ]
  },
  {
   "cell_type": "code",
   "execution_count": 139,
   "id": "74c2a922",
   "metadata": {},
   "outputs": [],
   "source": [
    "all_types = []\n",
    "all_files = []\n",
    "error_pages = []\n",
    "\n",
    "for root, dirs, files in os.walk(root_path):\n",
    "    for file in files:\n",
    "        file_path = os.path.join(root, file)\n",
    "        if file_path.endswith('.html'):\n",
    "            all_files.append(file_path)\n",
    "            \n",
    "            with open(file_path, 'r') as file:\n",
    "                html_content = file.read()\n",
    "\n",
    "            if \"503 Service Temporarily Unavailable\" in html_content:\n",
    "                error_pages.append(file_path)\n",
    "            else:\n",
    "                typs = get_all_types(html_content)\n",
    "                all_types.append(typs)"
   ]
  },
  {
   "cell_type": "code",
   "execution_count": 143,
   "id": "fa6ecb26",
   "metadata": {},
   "outputs": [
    {
     "data": {
      "text/plain": [
       "Counter({'TITLE': 93,\n",
       "         '': 14,\n",
       "         'IMAGE': 14,\n",
       "         'TEXT': 89,\n",
       "         'SHORT_ANSWER': 14,\n",
       "         'MULTIPLE_CHOICE': 34})"
      ]
     },
     "execution_count": 143,
     "metadata": {},
     "output_type": "execute_result"
    }
   ],
   "source": [
    "Counter(sum(all_types,[]))"
   ]
  },
  {
   "cell_type": "markdown",
   "id": "112a9d8f",
   "metadata": {},
   "source": [
    "# Get one of each type"
   ]
  },
  {
   "cell_type": "code",
   "execution_count": 160,
   "id": "13739d8c",
   "metadata": {},
   "outputs": [
    {
     "data": {
      "text/plain": [
       "[['', 'IMAGE', 'SHORT_ANSWER', 'TEXT', 'TITLE'],\n",
       " ['', 'IMAGE', 'MULTIPLE_CHOICE', 'TEXT', 'TITLE']]"
      ]
     },
     "execution_count": 160,
     "metadata": {},
     "output_type": "execute_result"
    }
   ],
   "source": [
    "[sorted(i) for i in set([tuple(set(t)) for t in all_types]) if len(i) >= 5]"
   ]
  },
  {
   "cell_type": "code",
   "execution_count": 162,
   "id": "696d1dcd",
   "metadata": {},
   "outputs": [
    {
     "data": {
      "text/plain": [
       "0"
      ]
     },
     "execution_count": 162,
     "metadata": {},
     "output_type": "execute_result"
    }
   ],
   "source": [
    "[sorted(tuple(set(t))) for t in all_types].index(['', 'IMAGE', 'SHORT_ANSWER', 'TEXT', 'TITLE'])"
   ]
  },
  {
   "cell_type": "code",
   "execution_count": 166,
   "id": "a966b4d6",
   "metadata": {},
   "outputs": [
    {
     "data": {
      "text/plain": [
       "'/Users/vivianamarquez/Desktop/prisoneducation/raw_html/lesson_12/page_1.html'"
      ]
     },
     "execution_count": 166,
     "metadata": {},
     "output_type": "execute_result"
    }
   ],
   "source": [
    "all_files[0]"
   ]
  },
  {
   "cell_type": "code",
   "execution_count": 164,
   "id": "3c678222",
   "metadata": {},
   "outputs": [
    {
     "data": {
      "text/plain": [
       "14"
      ]
     },
     "execution_count": 164,
     "metadata": {},
     "output_type": "execute_result"
    }
   ],
   "source": [
    "[sorted(tuple(set(t))) for t in all_types].index(['', 'IMAGE', 'MULTIPLE_CHOICE', 'TEXT', 'TITLE'])"
   ]
  },
  {
   "cell_type": "code",
   "execution_count": 167,
   "id": "58dc48a8",
   "metadata": {},
   "outputs": [
    {
     "data": {
      "text/plain": [
       "'/Users/vivianamarquez/Desktop/prisoneducation/raw_html/lesson_13/page_1.html'"
      ]
     },
     "execution_count": 167,
     "metadata": {},
     "output_type": "execute_result"
    }
   ],
   "source": [
    "all_files[14]"
   ]
  },
  {
   "cell_type": "code",
   "execution_count": 169,
   "id": "835811de",
   "metadata": {},
   "outputs": [],
   "source": [
    "path = all_files[0]\n",
    "with open(path, 'r') as file:\n",
    "    html_content = file.read()"
   ]
  },
  {
   "cell_type": "code",
   "execution_count": 171,
   "id": "56802b34",
   "metadata": {},
   "outputs": [
    {
     "data": {
      "text/plain": [
       "['TITLE', '', 'IMAGE', 'TEXT', 'SHORT_ANSWER', 'TITLE', 'TEXT']"
      ]
     },
     "execution_count": 171,
     "metadata": {},
     "output_type": "execute_result"
    }
   ],
   "source": [
    "all_types[0]"
   ]
  },
  {
   "cell_type": "code",
   "execution_count": 190,
   "id": "f341d089",
   "metadata": {},
   "outputs": [],
   "source": [
    "def parse_nested_braces(string):\n",
    "    stack = []\n",
    "    results = []\n",
    "    current = []\n",
    "\n",
    "    for char in string:\n",
    "        if char == '{':\n",
    "            stack.append('{')\n",
    "            current.append(char)\n",
    "        elif char == '}' and stack:\n",
    "            stack.pop()\n",
    "            current.append(char)\n",
    "            if not stack:  # Completed a nested structure\n",
    "                results.append(''.join(current))\n",
    "                current = []\n",
    "        elif stack:\n",
    "            current.append(char)\n",
    "\n",
    "    return results"
   ]
  },
  {
   "cell_type": "code",
   "execution_count": 228,
   "id": "2004e574",
   "metadata": {},
   "outputs": [],
   "source": [
    "def parse_key_value_pairs(string):\n",
    "    def is_key_start(index):\n",
    "        # Check if the current index is the start of a key\n",
    "        return string[index] == '\"' and (index == 0 or string[index - 1] not in '\\\\')\n",
    "\n",
    "    def find_key_end(start_index):\n",
    "        # Find the end of the key (next unescaped quote)\n",
    "        index = start_index + 1\n",
    "        while index < len(string):\n",
    "            if string[index] == '\"' and string[index - 1] != '\\\\':\n",
    "                return index\n",
    "            index += 1\n",
    "        return -1\n",
    "\n",
    "    def find_value(index):\n",
    "        # Find the end of the value, handling nested objects and arrays\n",
    "        if string[index] in '{[':\n",
    "            # Handle nested structure\n",
    "            opening = string[index]\n",
    "            closing = '}' if opening == '{' else ']'\n",
    "            depth = 1\n",
    "            index += 1\n",
    "            while index < len(string) and depth > 0:\n",
    "                if string[index] == opening:\n",
    "                    depth += 1\n",
    "                elif string[index] == closing:\n",
    "                    depth -= 1\n",
    "                index += 1\n",
    "            return index\n",
    "        else:\n",
    "            # Handle simple value\n",
    "            while index < len(string) and string[index] not in ',}':\n",
    "                index += 1\n",
    "            return index\n",
    "\n",
    "    results = {}\n",
    "    i = 0\n",
    "    while i < len(string):\n",
    "        if is_key_start(i):\n",
    "            key_end = find_key_end(i)\n",
    "            if key_end != -1:\n",
    "                key = string[i + 1:key_end]\n",
    "                # Skip to the colon and the following whitespace\n",
    "                i = key_end + 2\n",
    "                while i < len(string) and string[i] in ' \\t':\n",
    "                    i += 1\n",
    "                value_end = find_value(i)\n",
    "                value = string[i:value_end].strip()\n",
    "                results[key] = value\n",
    "                i = value_end\n",
    "        i += 1\n",
    "\n",
    "    return results"
   ]
  },
  {
   "cell_type": "code",
   "execution_count": 224,
   "id": "86da8a5f",
   "metadata": {},
   "outputs": [
    {
     "data": {
      "text/plain": [
       "'{\"frozen\":false,\"userFile\":null,\"pageItemAttributes\":null,\"answers\":[],\"pageId\":283673,\"isScored\":null,\"pageItemPrecondition\":[],\"formulas\":[],\"explanation\":null,\"attrs\":{},\"scoreType\":\"NOT_SCORED\",\"minWordLength\":null,\"index\":2,\"optional\":false,\"name\":\"Text\",\"value\":\"\\n<p>\\n <span &quot;space=\"\" 15pt;=\"\" 163);=\"\" 700;=\"\" 83,=\"\" baseline;=\"\" color:=\"\" font-family:=\"\" font-size:=\"\" font-variant-alternates:=\"\" font-variant-east-asian:=\"\" font-variant-numeric:=\"\" font-weight:=\"\" mono&quot;,=\"\" monospace;=\"\" normal;=\"\" preserve;\\\\\"=\"\" rgb(0,=\"\" style=\\'\\\\\"background-color:\\' transparent;=\"\" vertical-align:=\"\" white-space-collapse:=\"\">\\n  Goal for this session:\\n </span>\\n <span &quot;space=\"\" 15pt;=\"\" baseline;=\"\" font-family:=\"\" font-size:=\"\" font-variant-alternates:=\"\" font-variant-east-asian:=\"\" font-variant-numeric:=\"\" mono&quot;,=\"\" monospace;=\"\" normal;=\"\" preserve;\\\\\"=\"\" style=\\'\\\\\"background-color:\\' transparent;=\"\" vertical-align:=\"\" white-space-collapse:=\"\">\\n  better understand what “Servers” are and how to make our own.\\n </span>\\n</p>\\n\",\"type\":\"TEXT\",\"id\":623651,\"modified\":false,\"longId\":623651,\"idName\":\"id\",\"compositeKeys\":null,\"valid\":true,\"new\":false}'"
      ]
     },
     "execution_count": 224,
     "metadata": {},
     "output_type": "execute_result"
    }
   ],
   "source": [
    "parse_nested_braces(html_content[42:-1])[2]"
   ]
  },
  {
   "cell_type": "code",
   "execution_count": 235,
   "id": "ff1d6add",
   "metadata": {},
   "outputs": [
    {
     "data": {
      "text/plain": [
       "{'frozen': 'false',\n",
       " 'userFile': '{\"frozen\":false,\"contentPath\":\"/media/430/9646/6990b704-9bd2-4faa-9619-12fb2e8e2a8b-Untitled.png\",\"wordCount\":null,\"pageCount\":null,\"partialPath\":\"/430/9646/6990b704-9bd2-4faa-9619-12fb2e8e2a8b-Untitled.png\",\"video\":false,\"audio\":false,\"timeLength\":null,\"pdf\":false,\"image\":true,\"parentId\":623650,\"mediaPath\":\"/media/430/9646/6990b704-9bd2-4faa-9619-12fb2e8e2a8b-Untitled.png\",\"fileType\":\"image\",\"type\":\"\",\"fileName\":\"Untitled.png\",\"extension\":\"png\",\"description\":null,\"longId\":279650,\"transcribedClosedCaption\":{\"present\":false},\"id\":279650,\"modified\":false,\"idName\":\"id\",\"compositeKeys\":null,\"valid\":true,\"new\":false}',\n",
       " 'pageItemAttributes': 'null',\n",
       " 'answers': '[]',\n",
       " 'pageId': '283673',\n",
       " 'isScored': 'null',\n",
       " 'pageItemPrecondition': '[]',\n",
       " 'formulas': '[]',\n",
       " 'explanation': 'null',\n",
       " 'attrs': '{}',\n",
       " 'scoreType': '\"NOT_SCORED\"',\n",
       " 'minWordLength': 'null',\n",
       " 'index': '1',\n",
       " 'optional': 'false',\n",
       " 'name': '\"Image\"',\n",
       " 'value': 'null',\n",
       " 'type': '\"IMAGE\"',\n",
       " 'id': '623650',\n",
       " 'modified': 'false',\n",
       " 'longId': '623650',\n",
       " 'idName': '\"id\"',\n",
       " 'compositeKeys': 'null',\n",
       " 'valid': 'true',\n",
       " 'new': 'false'}"
      ]
     },
     "execution_count": 235,
     "metadata": {},
     "output_type": "execute_result"
    }
   ],
   "source": [
    "parse_key_value_pairs(parse_nested_braces(html_content[42:-1])[1])"
   ]
  },
  {
   "cell_type": "code",
   "execution_count": 203,
   "id": "f31d0811",
   "metadata": {},
   "outputs": [
    {
     "data": {
      "text/plain": [
       "{}"
      ]
     },
     "execution_count": 203,
     "metadata": {},
     "output_type": "execute_result"
    }
   ],
   "source": [
    "parse_dict_with_html(parse_nested_braces(html_content[42:-1])[0])"
   ]
  },
  {
   "cell_type": "code",
   "execution_count": 205,
   "id": "65a642e1",
   "metadata": {},
   "outputs": [
    {
     "ename": "JSONDecodeError",
     "evalue": "Invalid control character at: line 1 column 270 (char 269)",
     "output_type": "error",
     "traceback": [
      "\u001b[0;31m---------------------------------------------------------------------------\u001b[0m",
      "\u001b[0;31mJSONDecodeError\u001b[0m                           Traceback (most recent call last)",
      "\u001b[0;32m/var/folders/n7/q93jwpcs6jndz6qqvj4mhtcm0000gn/T/ipykernel_67103/1701647780.py\u001b[0m in \u001b[0;36m<module>\u001b[0;34m\u001b[0m\n\u001b[0;32m----> 1\u001b[0;31m \u001b[0mjson\u001b[0m\u001b[0;34m.\u001b[0m\u001b[0mloads\u001b[0m\u001b[0;34m(\u001b[0m\u001b[0mparse_nested_braces\u001b[0m\u001b[0;34m(\u001b[0m\u001b[0mhtml_content\u001b[0m\u001b[0;34m[\u001b[0m\u001b[0;36m42\u001b[0m\u001b[0;34m:\u001b[0m\u001b[0;34m-\u001b[0m\u001b[0;36m1\u001b[0m\u001b[0;34m]\u001b[0m\u001b[0;34m)\u001b[0m\u001b[0;34m[\u001b[0m\u001b[0;36m2\u001b[0m\u001b[0;34m]\u001b[0m\u001b[0;34m)\u001b[0m\u001b[0;34m\u001b[0m\u001b[0;34m\u001b[0m\u001b[0m\n\u001b[0m",
      "\u001b[0;32m~/opt/anaconda3/lib/python3.9/json/__init__.py\u001b[0m in \u001b[0;36mloads\u001b[0;34m(s, cls, object_hook, parse_float, parse_int, parse_constant, object_pairs_hook, **kw)\u001b[0m\n\u001b[1;32m    344\u001b[0m             \u001b[0mparse_int\u001b[0m \u001b[0;32mis\u001b[0m \u001b[0;32mNone\u001b[0m \u001b[0;32mand\u001b[0m \u001b[0mparse_float\u001b[0m \u001b[0;32mis\u001b[0m \u001b[0;32mNone\u001b[0m \u001b[0;32mand\u001b[0m\u001b[0;34m\u001b[0m\u001b[0;34m\u001b[0m\u001b[0m\n\u001b[1;32m    345\u001b[0m             parse_constant is None and object_pairs_hook is None and not kw):\n\u001b[0;32m--> 346\u001b[0;31m         \u001b[0;32mreturn\u001b[0m \u001b[0m_default_decoder\u001b[0m\u001b[0;34m.\u001b[0m\u001b[0mdecode\u001b[0m\u001b[0;34m(\u001b[0m\u001b[0ms\u001b[0m\u001b[0;34m)\u001b[0m\u001b[0;34m\u001b[0m\u001b[0;34m\u001b[0m\u001b[0m\n\u001b[0m\u001b[1;32m    347\u001b[0m     \u001b[0;32mif\u001b[0m \u001b[0mcls\u001b[0m \u001b[0;32mis\u001b[0m \u001b[0;32mNone\u001b[0m\u001b[0;34m:\u001b[0m\u001b[0;34m\u001b[0m\u001b[0;34m\u001b[0m\u001b[0m\n\u001b[1;32m    348\u001b[0m         \u001b[0mcls\u001b[0m \u001b[0;34m=\u001b[0m \u001b[0mJSONDecoder\u001b[0m\u001b[0;34m\u001b[0m\u001b[0;34m\u001b[0m\u001b[0m\n",
      "\u001b[0;32m~/opt/anaconda3/lib/python3.9/json/decoder.py\u001b[0m in \u001b[0;36mdecode\u001b[0;34m(self, s, _w)\u001b[0m\n\u001b[1;32m    335\u001b[0m \u001b[0;34m\u001b[0m\u001b[0m\n\u001b[1;32m    336\u001b[0m         \"\"\"\n\u001b[0;32m--> 337\u001b[0;31m         \u001b[0mobj\u001b[0m\u001b[0;34m,\u001b[0m \u001b[0mend\u001b[0m \u001b[0;34m=\u001b[0m \u001b[0mself\u001b[0m\u001b[0;34m.\u001b[0m\u001b[0mraw_decode\u001b[0m\u001b[0;34m(\u001b[0m\u001b[0ms\u001b[0m\u001b[0;34m,\u001b[0m \u001b[0midx\u001b[0m\u001b[0;34m=\u001b[0m\u001b[0m_w\u001b[0m\u001b[0;34m(\u001b[0m\u001b[0ms\u001b[0m\u001b[0;34m,\u001b[0m \u001b[0;36m0\u001b[0m\u001b[0;34m)\u001b[0m\u001b[0;34m.\u001b[0m\u001b[0mend\u001b[0m\u001b[0;34m(\u001b[0m\u001b[0;34m)\u001b[0m\u001b[0;34m)\u001b[0m\u001b[0;34m\u001b[0m\u001b[0;34m\u001b[0m\u001b[0m\n\u001b[0m\u001b[1;32m    338\u001b[0m         \u001b[0mend\u001b[0m \u001b[0;34m=\u001b[0m \u001b[0m_w\u001b[0m\u001b[0;34m(\u001b[0m\u001b[0ms\u001b[0m\u001b[0;34m,\u001b[0m \u001b[0mend\u001b[0m\u001b[0;34m)\u001b[0m\u001b[0;34m.\u001b[0m\u001b[0mend\u001b[0m\u001b[0;34m(\u001b[0m\u001b[0;34m)\u001b[0m\u001b[0;34m\u001b[0m\u001b[0;34m\u001b[0m\u001b[0m\n\u001b[1;32m    339\u001b[0m         \u001b[0;32mif\u001b[0m \u001b[0mend\u001b[0m \u001b[0;34m!=\u001b[0m \u001b[0mlen\u001b[0m\u001b[0;34m(\u001b[0m\u001b[0ms\u001b[0m\u001b[0;34m)\u001b[0m\u001b[0;34m:\u001b[0m\u001b[0;34m\u001b[0m\u001b[0;34m\u001b[0m\u001b[0m\n",
      "\u001b[0;32m~/opt/anaconda3/lib/python3.9/json/decoder.py\u001b[0m in \u001b[0;36mraw_decode\u001b[0;34m(self, s, idx)\u001b[0m\n\u001b[1;32m    351\u001b[0m         \"\"\"\n\u001b[1;32m    352\u001b[0m         \u001b[0;32mtry\u001b[0m\u001b[0;34m:\u001b[0m\u001b[0;34m\u001b[0m\u001b[0;34m\u001b[0m\u001b[0m\n\u001b[0;32m--> 353\u001b[0;31m             \u001b[0mobj\u001b[0m\u001b[0;34m,\u001b[0m \u001b[0mend\u001b[0m \u001b[0;34m=\u001b[0m \u001b[0mself\u001b[0m\u001b[0;34m.\u001b[0m\u001b[0mscan_once\u001b[0m\u001b[0;34m(\u001b[0m\u001b[0ms\u001b[0m\u001b[0;34m,\u001b[0m \u001b[0midx\u001b[0m\u001b[0;34m)\u001b[0m\u001b[0;34m\u001b[0m\u001b[0;34m\u001b[0m\u001b[0m\n\u001b[0m\u001b[1;32m    354\u001b[0m         \u001b[0;32mexcept\u001b[0m \u001b[0mStopIteration\u001b[0m \u001b[0;32mas\u001b[0m \u001b[0merr\u001b[0m\u001b[0;34m:\u001b[0m\u001b[0;34m\u001b[0m\u001b[0;34m\u001b[0m\u001b[0m\n\u001b[1;32m    355\u001b[0m             \u001b[0;32mraise\u001b[0m \u001b[0mJSONDecodeError\u001b[0m\u001b[0;34m(\u001b[0m\u001b[0;34m\"Expecting value\"\u001b[0m\u001b[0;34m,\u001b[0m \u001b[0ms\u001b[0m\u001b[0;34m,\u001b[0m \u001b[0merr\u001b[0m\u001b[0;34m.\u001b[0m\u001b[0mvalue\u001b[0m\u001b[0;34m)\u001b[0m \u001b[0;32mfrom\u001b[0m \u001b[0;32mNone\u001b[0m\u001b[0;34m\u001b[0m\u001b[0;34m\u001b[0m\u001b[0m\n",
      "\u001b[0;31mJSONDecodeError\u001b[0m: Invalid control character at: line 1 column 270 (char 269)"
     ]
    }
   ],
   "source": [
    "json.loads(parse_nested_braces(html_content[42:-1])[2])"
   ]
  },
  {
   "cell_type": "code",
   "execution_count": 198,
   "id": "08c45a5b",
   "metadata": {},
   "outputs": [
    {
     "data": {
      "text/plain": [
       "'{\"frozen\":false,\"userFile\":null,\"pageItemAttributes\":null,\"answers\":[],\"pageId\":283673,\"isScored\":null,\"pageItemPrecondition\":[],\"formulas\":[],\"explanation\":null,\"attrs\":{},\"scoreType\":\"NOT_SCORED\",\"minWordLength\":null,\"index\":2,\"optional\":false,\"name\":\"Text\",\"value\":\"\\n<p>\\n <span &quot;space=\"\" 15pt;=\"\" 163);=\"\" 700;=\"\" 83,=\"\" baseline;=\"\" color:=\"\" font-family:=\"\" font-size:=\"\" font-variant-alternates:=\"\" font-variant-east-asian:=\"\" font-variant-numeric:=\"\" font-weight:=\"\" mono&quot;,=\"\" monospace;=\"\" normal;=\"\" preserve;\\\\\"=\"\" rgb(0,=\"\" style=\\'\\\\\"background-color:\\' transparent;=\"\" vertical-align:=\"\" white-space-collapse:=\"\">\\n  Goal for this session:\\n </span>\\n <span &quot;space=\"\" 15pt;=\"\" baseline;=\"\" font-family:=\"\" font-size:=\"\" font-variant-alternates:=\"\" font-variant-east-asian:=\"\" font-variant-numeric:=\"\" mono&quot;,=\"\" monospace;=\"\" normal;=\"\" preserve;\\\\\"=\"\" style=\\'\\\\\"background-color:\\' transparent;=\"\" vertical-align:=\"\" white-space-collapse:=\"\">\\n  better understand what “Servers” are and how to make our own.\\n </span>\\n</p>\\n\",\"type\":\"TEXT\",\"id\":623651,\"modified\":false,\"longId\":623651,\"idName\":\"id\",\"compositeKeys\":null,\"valid\":true,\"new\":false}'"
      ]
     },
     "execution_count": 198,
     "metadata": {},
     "output_type": "execute_result"
    }
   ],
   "source": [
    "parse_nested_braces(html_content[42:-1])[2]"
   ]
  },
  {
   "cell_type": "code",
   "execution_count": 180,
   "id": "26145107",
   "metadata": {
    "scrolled": true
   },
   "outputs": [
    {
     "data": {
      "text/plain": [
       "'{\"preconditionCandidates\":[],\"pageItems\":[{\"frozen\":false,\"userFile\":null,\"pageItemAttributes\":null,\"answers\":[],\"pageId\":283673,\"isScored\":null,\"pageItemPrecondition\":[],\"formulas\":[],\"explanation\":null,\"attrs\":{},\"scoreType\":\"NOT_SCORED\",\"minWordLength\":null,\"index\":0,\"optional\":false,\"name\":\"Title\",\"value\":\"Lesson #12: Flask\",'"
      ]
     },
     "execution_count": 180,
     "metadata": {},
     "output_type": "execute_result"
    }
   ],
   "source": [
    "html_content.split('\"type\":')[0]"
   ]
  },
  {
   "cell_type": "code",
   "execution_count": 177,
   "id": "93013a3e",
   "metadata": {},
   "outputs": [
    {
     "data": {
      "text/plain": [
       "'\"TITLE\",\"id\":623649,\"modified\":false,\"longId\":623649,\"idName\":\"id\",\"compositeKeys\":null,\"valid\":true,\"new\":false},{\"frozen\":false,\"userFile\":{\"frozen\":false,\"contentPath\":\"/media/430/9646/6990b704-9bd2-4faa-9619-12fb2e8e2a8b-Untitled.png\",\"wordCount\":null,\"pageCount\":null,\"partialPath\":\"/430/9646/6990b704-9bd2-4faa-9619-12fb2e8e2a8b-Untitled.png\",\"video\":false,\"audio\":false,\"timeLength\":null,\"pdf\":false,\"image\":true,\"parentId\":623650,\"mediaPath\":\"/media/430/9646/6990b704-9bd2-4faa-9619-12fb2e8e2a8b-Untitled.png\",\"fileType\":\"image\",'"
      ]
     },
     "execution_count": 177,
     "metadata": {},
     "output_type": "execute_result"
    }
   ],
   "source": [
    "html_content.split('\"type\":')[1]"
   ]
  },
  {
   "cell_type": "code",
   "execution_count": 178,
   "id": "3f7af476",
   "metadata": {},
   "outputs": [
    {
     "data": {
      "text/plain": [
       "'\"\",\"fileName\":\"Untitled.png\",\"extension\":\"png\",\"description\":null,\"longId\":279650,\"transcribedClosedCaption\":{\"present\":false},\"id\":279650,\"modified\":false,\"idName\":\"id\",\"compositeKeys\":null,\"valid\":true,\"new\":false},\"pageItemAttributes\":null,\"answers\":[],\"pageId\":283673,\"isScored\":null,\"pageItemPrecondition\":[],\"formulas\":[],\"explanation\":null,\"attrs\":{},\"scoreType\":\"NOT_SCORED\",\"minWordLength\":null,\"index\":1,\"optional\":false,\"name\":\"Image\",\"value\":null,'"
      ]
     },
     "execution_count": 178,
     "metadata": {},
     "output_type": "execute_result"
    }
   ],
   "source": [
    "html_content.split('\"type\":')[2]"
   ]
  },
  {
   "cell_type": "code",
   "execution_count": 179,
   "id": "4b70a6f6",
   "metadata": {},
   "outputs": [
    {
     "data": {
      "text/plain": [
       "'\"IMAGE\",\"id\":623650,\"modified\":false,\"longId\":623650,\"idName\":\"id\",\"compositeKeys\":null,\"valid\":true,\"new\":false},{\"frozen\":false,\"userFile\":null,\"pageItemAttributes\":null,\"answers\":[],\"pageId\":283673,\"isScored\":null,\"pageItemPrecondition\":[],\"formulas\":[],\"explanation\":null,\"attrs\":{},\"scoreType\":\"NOT_SCORED\",\"minWordLength\":null,\"index\":2,\"optional\":false,\"name\":\"Text\",\"value\":\"\\n<p>\\n <span &quot;space=\"\" 15pt;=\"\" 163);=\"\" 700;=\"\" 83,=\"\" baseline;=\"\" color:=\"\" font-family:=\"\" font-size:=\"\" font-variant-alternates:=\"\" font-variant-east-asian:=\"\" font-variant-numeric:=\"\" font-weight:=\"\" mono&quot;,=\"\" monospace;=\"\" normal;=\"\" preserve;\\\\\"=\"\" rgb(0,=\"\" style=\\'\\\\\"background-color:\\' transparent;=\"\" vertical-align:=\"\" white-space-collapse:=\"\">\\n  Goal for this session:\\n </span>\\n <span &quot;space=\"\" 15pt;=\"\" baseline;=\"\" font-family:=\"\" font-size:=\"\" font-variant-alternates:=\"\" font-variant-east-asian:=\"\" font-variant-numeric:=\"\" mono&quot;,=\"\" monospace;=\"\" normal;=\"\" preserve;\\\\\"=\"\" style=\\'\\\\\"background-color:\\' transparent;=\"\" vertical-align:=\"\" white-space-collapse:=\"\">\\n  better understand what “Servers” are and how to make our own.\\n </span>\\n</p>\\n\",'"
      ]
     },
     "execution_count": 179,
     "metadata": {},
     "output_type": "execute_result"
    }
   ],
   "source": [
    "html_content.split('\"type\":')[3]"
   ]
  },
  {
   "cell_type": "code",
   "execution_count": null,
   "id": "59e1dd5c",
   "metadata": {},
   "outputs": [],
   "source": []
  }
 ],
 "metadata": {
  "kernelspec": {
   "display_name": "Python 3 (ipykernel)",
   "language": "python",
   "name": "python3"
  },
  "language_info": {
   "codemirror_mode": {
    "name": "ipython",
    "version": 3
   },
   "file_extension": ".py",
   "mimetype": "text/x-python",
   "name": "python",
   "nbconvert_exporter": "python",
   "pygments_lexer": "ipython3",
   "version": "3.9.13"
  }
 },
 "nbformat": 4,
 "nbformat_minor": 5
}
