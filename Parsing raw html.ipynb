{
 "cells": [
  {
   "cell_type": "code",
   "execution_count": 128,
   "id": "cc6a70ea",
   "metadata": {},
   "outputs": [],
   "source": [
    "import os\n",
    "import re\n",
    "import ast\n",
    "import html\n",
    "import json\n",
    "from collections import Counter"
   ]
  },
  {
   "cell_type": "code",
   "execution_count": 129,
   "id": "47673707",
   "metadata": {},
   "outputs": [],
   "source": [
    "def get_all_types(html_content):\n",
    "    get_types = html_content.split('\"type\":')\n",
    "    all_types = []\n",
    "\n",
    "    for item in get_types[1:]:\n",
    "        typ = item.split(\",\")[0].replace('\"',\"\")\n",
    "        all_types.append(typ)\n",
    "    return all_types"
   ]
  },
  {
   "cell_type": "code",
   "execution_count": 130,
   "id": "41e4a2ca",
   "metadata": {},
   "outputs": [],
   "source": [
    "root_path = '/Users/vivianamarquez/Desktop/prisoneducation/raw_html/'"
   ]
  },
  {
   "cell_type": "code",
   "execution_count": 132,
   "id": "b684b464",
   "metadata": {},
   "outputs": [],
   "source": [
    "all_types = []\n",
    "error_pages = []\n",
    "\n",
    "for root, dirs, files in os.walk(root_path):\n",
    "    for file in files:\n",
    "        file_path = os.path.join(root, file)\n",
    "        if file_path.endswith('.html'):\n",
    "            \n",
    "            with open(file_path, 'r') as file:\n",
    "                html_content = file.read()\n",
    "\n",
    "            if \"503 Service Temporarily Unavailable\" in html_content:\n",
    "                error_pages.append(file_path)\n",
    "            else:\n",
    "                typs = get_all_types(html_content)\n",
    "                all_types.extend(typs)"
   ]
  },
  {
   "cell_type": "code",
   "execution_count": 133,
   "id": "35d58431",
   "metadata": {},
   "outputs": [
    {
     "data": {
      "text/plain": [
       "Counter({'TITLE': 93,\n",
       "         '': 14,\n",
       "         'IMAGE': 14,\n",
       "         'TEXT': 89,\n",
       "         'SHORT_ANSWER': 14,\n",
       "         'MULTIPLE_CHOICE': 34})"
      ]
     },
     "execution_count": 133,
     "metadata": {},
     "output_type": "execute_result"
    }
   ],
   "source": [
    "Counter(all_types)"
   ]
  },
  {
   "cell_type": "code",
   "execution_count": 134,
   "id": "510ad926",
   "metadata": {},
   "outputs": [
    {
     "data": {
      "text/plain": [
       "[]"
      ]
     },
     "execution_count": 134,
     "metadata": {},
     "output_type": "execute_result"
    }
   ],
   "source": [
    "error_pages"
   ]
  },
  {
   "cell_type": "code",
   "execution_count": null,
   "id": "d3e3783f",
   "metadata": {},
   "outputs": [],
   "source": []
  }
 ],
 "metadata": {
  "kernelspec": {
   "display_name": "Python 3 (ipykernel)",
   "language": "python",
   "name": "python3"
  },
  "language_info": {
   "codemirror_mode": {
    "name": "ipython",
    "version": 3
   },
   "file_extension": ".py",
   "mimetype": "text/x-python",
   "name": "python",
   "nbconvert_exporter": "python",
   "pygments_lexer": "ipython3",
   "version": "3.9.13"
  }
 },
 "nbformat": 4,
 "nbformat_minor": 5
}
