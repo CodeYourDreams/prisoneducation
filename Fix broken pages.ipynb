{
 "cells": [
  {
   "cell_type": "code",
   "execution_count": 70,
   "id": "ded00811",
   "metadata": {},
   "outputs": [],
   "source": [
    "import os\n",
    "import ast\n",
    "import shutil\n",
    "import requests\n",
    "import pandas as pd\n",
    "from bs4 import BeautifulSoup"
   ]
  },
  {
   "cell_type": "code",
   "execution_count": 87,
   "id": "9cfdc99b",
   "metadata": {},
   "outputs": [],
   "source": [
    "payload='email=XXXXXXX%40XXXXXXX&password=XXXXXXX'"
   ]
  },
  {
   "cell_type": "code",
   "execution_count": 88,
   "id": "f33244e2",
   "metadata": {},
   "outputs": [],
   "source": [
    "headers = {\n",
    "  'cookie': 'XXXXXXX',\n",
    "  'user-agent': 'Mozilla/5.0 (Linux; Android 6.0; Nexus 5 Build/MRA58N) AppleWebKit/537.36 (KHTML, like Gecko) Chrome/119.0.0.0 Mobile Safari/537.36',\n",
    "  'Content-Type': 'application/x-www-form-urlencoded'\n",
    "}"
   ]
  },
  {
   "cell_type": "code",
   "execution_count": 89,
   "id": "4d5e185a",
   "metadata": {},
   "outputs": [],
   "source": [
    "def get_soup(url):\n",
    "    response = requests.request(\"GET\", url, headers=headers, data=payload)\n",
    "    soup = BeautifulSoup(response.text, 'html.parser')\n",
    "    return soup"
   ]
  },
  {
   "cell_type": "code",
   "execution_count": 90,
   "id": "b7fddf6b",
   "metadata": {},
   "outputs": [
    {
     "data": {
      "text/html": [
       "<div>\n",
       "<style scoped>\n",
       "    .dataframe tbody tr th:only-of-type {\n",
       "        vertical-align: middle;\n",
       "    }\n",
       "\n",
       "    .dataframe tbody tr th {\n",
       "        vertical-align: top;\n",
       "    }\n",
       "\n",
       "    .dataframe thead th {\n",
       "        text-align: right;\n",
       "    }\n",
       "</style>\n",
       "<table border=\"1\" class=\"dataframe\">\n",
       "  <thead>\n",
       "    <tr style=\"text-align: right;\">\n",
       "      <th></th>\n",
       "      <th>page_lesson</th>\n",
       "      <th>page_name</th>\n",
       "      <th>page_id</th>\n",
       "      <th>page_number</th>\n",
       "    </tr>\n",
       "  </thead>\n",
       "  <tbody>\n",
       "    <tr>\n",
       "      <th>0</th>\n",
       "      <td>Lesson 1</td>\n",
       "      <td>Welcome to Web Development!</td>\n",
       "      <td>283705</td>\n",
       "      <td>Page 1</td>\n",
       "    </tr>\n",
       "    <tr>\n",
       "      <th>1</th>\n",
       "      <td>Lesson 1</td>\n",
       "      <td>The Future of Web Development</td>\n",
       "      <td>283706</td>\n",
       "      <td>Page 2</td>\n",
       "    </tr>\n",
       "    <tr>\n",
       "      <th>2</th>\n",
       "      <td>Lesson 1</td>\n",
       "      <td>What is Python?</td>\n",
       "      <td>283707</td>\n",
       "      <td>Page 3</td>\n",
       "    </tr>\n",
       "    <tr>\n",
       "      <th>3</th>\n",
       "      <td>Lesson 1</td>\n",
       "      <td>Course Goals</td>\n",
       "      <td>283708</td>\n",
       "      <td>Page 4</td>\n",
       "    </tr>\n",
       "    <tr>\n",
       "      <th>4</th>\n",
       "      <td>Lesson 2</td>\n",
       "      <td>Lesson 11 - Variables and Datatypes</td>\n",
       "      <td>283703</td>\n",
       "      <td>Page 1</td>\n",
       "    </tr>\n",
       "  </tbody>\n",
       "</table>\n",
       "</div>"
      ],
      "text/plain": [
       "  page_lesson                            page_name  page_id page_number\n",
       "0    Lesson 1          Welcome to Web Development!   283705      Page 1\n",
       "1    Lesson 1        The Future of Web Development   283706      Page 2\n",
       "2    Lesson 1                      What is Python?   283707      Page 3\n",
       "3    Lesson 1                         Course Goals   283708      Page 4\n",
       "4    Lesson 2  Lesson 11 - Variables and Datatypes   283703      Page 1"
      ]
     },
     "execution_count": 90,
     "metadata": {},
     "output_type": "execute_result"
    }
   ],
   "source": [
    "df = pd.read_csv(\"csv_files/df_all_pages.csv\")\n",
    "df.head()"
   ]
  },
  {
   "cell_type": "code",
   "execution_count": 91,
   "id": "ea43af12",
   "metadata": {},
   "outputs": [],
   "source": [
    "problematic_pages = ['/Users/vivianamarquez/Desktop/prisoneducation/raw_html/lesson_12/page_1.html',\n",
    " '/Users/vivianamarquez/Desktop/prisoneducation/raw_html/lesson_12/page_4.html',\n",
    " '/Users/vivianamarquez/Desktop/prisoneducation/raw_html/lesson_15/page_1.html',\n",
    " '/Users/vivianamarquez/Desktop/prisoneducation/raw_html/lesson_15/page_3.html',\n",
    " '/Users/vivianamarquez/Desktop/prisoneducation/raw_html/lesson_15/page_5.html',\n",
    " '/Users/vivianamarquez/Desktop/prisoneducation/raw_html/lesson_14/page_2.html',\n",
    " '/Users/vivianamarquez/Desktop/prisoneducation/raw_html/lesson_13/page_1.html',\n",
    " '/Users/vivianamarquez/Desktop/prisoneducation/raw_html/lesson_13/page_3.html',\n",
    " '/Users/vivianamarquez/Desktop/prisoneducation/raw_html/lesson_16/page_2.html',\n",
    " '/Users/vivianamarquez/Desktop/prisoneducation/raw_html/lesson_11/page_2.html',\n",
    " '/Users/vivianamarquez/Desktop/prisoneducation/raw_html/lesson_11/page_4.html',\n",
    " '/Users/vivianamarquez/Desktop/prisoneducation/raw_html/lesson_17/page_1.html',\n",
    " '/Users/vivianamarquez/Desktop/prisoneducation/raw_html/lesson_4/page_7.html',\n",
    " '/Users/vivianamarquez/Desktop/prisoneducation/raw_html/lesson_4/page_3.html',\n",
    " '/Users/vivianamarquez/Desktop/prisoneducation/raw_html/lesson_4/page_5.html',\n",
    " '/Users/vivianamarquez/Desktop/prisoneducation/raw_html/lesson_4/page_9.html',\n",
    " '/Users/vivianamarquez/Desktop/prisoneducation/raw_html/lesson_3/page_7.html',\n",
    " '/Users/vivianamarquez/Desktop/prisoneducation/raw_html/lesson_3/page_5.html',\n",
    " '/Users/vivianamarquez/Desktop/prisoneducation/raw_html/lesson_5/page_2.html']"
   ]
  },
  {
   "cell_type": "code",
   "execution_count": 92,
   "id": "3c4366e4",
   "metadata": {},
   "outputs": [],
   "source": [
    "def get_tups(file_path):\n",
    "    file_path = file_path.split(\"/Users/vivianamarquez/Desktop/prisoneducation/raw_html/\")[1]\n",
    "    tokens = file_path[:-5].split(\"/\")\n",
    "    tokens = [token.capitalize().replace(\"_\", \" \") for token in tokens]\n",
    "    return tokens"
   ]
  },
  {
   "cell_type": "code",
   "execution_count": 93,
   "id": "b246fbdf",
   "metadata": {},
   "outputs": [],
   "source": [
    "problematic_pages = [get_tups(p) for p in problematic_pages]"
   ]
  },
  {
   "cell_type": "code",
   "execution_count": 94,
   "id": "7107d0e7",
   "metadata": {},
   "outputs": [],
   "source": [
    "df.set_index(['page_lesson', 'page_number'], inplace=True)"
   ]
  },
  {
   "cell_type": "code",
   "execution_count": 95,
   "id": "9737a16b",
   "metadata": {},
   "outputs": [],
   "source": [
    "ids_to_scrape = [df.loc[(p[0], p[1]), 'page_id'] for p in problematic_pages]"
   ]
  },
  {
   "cell_type": "code",
   "execution_count": 96,
   "id": "e92d5b98",
   "metadata": {},
   "outputs": [],
   "source": [
    "combined_list = [list(item) + [id_] for item, id_ in zip(problematic_pages, ids_to_scrape)]"
   ]
  },
  {
   "cell_type": "code",
   "execution_count": 97,
   "id": "f570cf47",
   "metadata": {},
   "outputs": [
    {
     "data": {
      "text/plain": [
       "[['Lesson 12', 'Page 1', 283673],\n",
       " ['Lesson 12', 'Page 4', 283676],\n",
       " ['Lesson 15', 'Page 1', 283685],\n",
       " ['Lesson 15', 'Page 3', 283687],\n",
       " ['Lesson 15', 'Page 5', 283689],\n",
       " ['Lesson 14', 'Page 2', 283682],\n",
       " ['Lesson 13', 'Page 1', 283678],\n",
       " ['Lesson 13', 'Page 3', 283680],\n",
       " ['Lesson 16', 'Page 2', 283691],\n",
       " ['Lesson 11', 'Page 2', 283669],\n",
       " ['Lesson 11', 'Page 4', 283671],\n",
       " ['Lesson 17', 'Page 1', 283694],\n",
       " ['Lesson 4', 'Page 7', 283722],\n",
       " ['Lesson 4', 'Page 3', 283718],\n",
       " ['Lesson 4', 'Page 5', 283720],\n",
       " ['Lesson 4', 'Page 9', 283724],\n",
       " ['Lesson 3', 'Page 7', 283715],\n",
       " ['Lesson 3', 'Page 5', 283713],\n",
       " ['Lesson 5', 'Page 2', 283726]]"
      ]
     },
     "execution_count": 97,
     "metadata": {},
     "output_type": "execute_result"
    }
   ],
   "source": [
    "combined_list"
   ]
  },
  {
   "cell_type": "code",
   "execution_count": 98,
   "id": "add0f478",
   "metadata": {},
   "outputs": [],
   "source": [
    "def save_html(url_id, lesson, page):\n",
    "    try:\n",
    "        lesson_folder_name = lesson.lower().replace(\" \", \"_\")\n",
    "        page_folder_name = page.lower().replace(\" \", \"_\")\n",
    "        os.makedirs(f\"raw_html/{lesson_folder_name}\", exist_ok=True)\n",
    "\n",
    "        page_url = f\"https://courses.edovo.com/lesson/get_page_items?pageId={url_id}\"\n",
    "        page_soup = get_soup(page_url)\n",
    "        html_str = page_soup.prettify()\n",
    "\n",
    "        with open(f'raw_html/{lesson_folder_name}/{page_folder_name}.html', 'w', encoding='utf-8') as file:\n",
    "            file.write(html_str)\n",
    "\n",
    "        print(f\"{lesson} - {page} completed.\")\n",
    "    \n",
    "    except:\n",
    "        print(f\"ISSUE with {lesson} - {page}.\")"
   ]
  },
  {
   "cell_type": "code",
   "execution_count": 99,
   "id": "25ab4e80",
   "metadata": {},
   "outputs": [
    {
     "name": "stdout",
     "output_type": "stream",
     "text": [
      "Lesson 12 - Page 1 completed.\n",
      "Lesson 12 - Page 4 completed.\n",
      "Lesson 15 - Page 1 completed.\n",
      "Lesson 15 - Page 3 completed.\n",
      "Lesson 15 - Page 5 completed.\n",
      "Lesson 14 - Page 2 completed.\n",
      "Lesson 13 - Page 1 completed.\n",
      "Lesson 13 - Page 3 completed.\n",
      "Lesson 16 - Page 2 completed.\n",
      "Lesson 11 - Page 2 completed.\n",
      "Lesson 11 - Page 4 completed.\n",
      "Lesson 17 - Page 1 completed.\n",
      "Lesson 4 - Page 7 completed.\n",
      "Lesson 4 - Page 3 completed.\n",
      "Lesson 4 - Page 5 completed.\n",
      "Lesson 4 - Page 9 completed.\n",
      "Lesson 3 - Page 7 completed.\n",
      "Lesson 3 - Page 5 completed.\n",
      "Lesson 5 - Page 2 completed.\n"
     ]
    }
   ],
   "source": [
    "for lesson, page, url_id in combined_list:\n",
    "    save_html(url_id, lesson, page)"
   ]
  },
  {
   "cell_type": "code",
   "execution_count": null,
   "id": "2e619d34",
   "metadata": {},
   "outputs": [],
   "source": []
  }
 ],
 "metadata": {
  "kernelspec": {
   "display_name": "Python 3 (ipykernel)",
   "language": "python",
   "name": "python3"
  },
  "language_info": {
   "codemirror_mode": {
    "name": "ipython",
    "version": 3
   },
   "file_extension": ".py",
   "mimetype": "text/x-python",
   "name": "python",
   "nbconvert_exporter": "python",
   "pygments_lexer": "ipython3",
   "version": "3.9.13"
  }
 },
 "nbformat": 4,
 "nbformat_minor": 5
}
